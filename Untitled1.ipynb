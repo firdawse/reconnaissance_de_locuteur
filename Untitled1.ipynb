{
 "cells": [
  {
   "cell_type": "code",
   "execution_count": 207,
   "id": "40b2d6f0",
   "metadata": {},
   "outputs": [],
   "source": [
    "def score(file,gmm):\n",
    "    log_likelihood = gmm.score_samples(file)\n",
    "    mean =  np.mean(log_likelihood)\n",
    "    return mean"
   ]
  },
  {
   "cell_type": "code",
   "execution_count": 2,
   "id": "5d163e49",
   "metadata": {},
   "outputs": [],
   "source": [
    "def loadGmm(path,nbr):\n",
    "    gmms=[]\n",
    "    if('/F/'in path):\n",
    "        path2 = 'gmm/F/'+str(nbr)\n",
    "    else :\n",
    "        path2 = 'gmm/H/'+str(nbr)\n",
    "    \n",
    "    roots =[]\n",
    "    for filename in os.listdir(path2):\n",
    "        root, ext = os.path.splitext(filename)\n",
    "        with open(path2+'/'+filename, 'rb') as f:\n",
    "            file = pickle.load(f)\n",
    "            gmms.append(file)\n",
    "            roots.append(root)\n",
    "    return gmms,roots"
   ]
  },
  {
   "cell_type": "code",
   "execution_count": 6,
   "id": "f9185ee3",
   "metadata": {},
   "outputs": [],
   "source": [
    "def calculate_gmm_scores(lang_dir,nbr):\n",
    "    gmms,roots = loadGmm(lang_dir,nbr)\n",
    "    models = []\n",
    "    results = []\n",
    "    for filename in os.listdir(lang_dir):\n",
    "        scores =[]\n",
    "        names = []\n",
    "        root, ext = os.path.splitext(filename)\n",
    "        with open(lang_dir+filename, 'rb') as f:\n",
    "            file = pickle.load(f)\n",
    "        for i in range(len(gmms)):\n",
    "            root, ext = os.path.splitext(filename)\n",
    "            \n",
    "            scores.append(score(file,gmms[i]))\n",
    "            results.append({\n",
    "                        'Recording Name': root,\n",
    "                        'Model Name': roots[i],\n",
    "                        'Score': score(file,gmms[i])\n",
    "                    })\n",
    "    df = pd.DataFrame(results)\n",
    "    return df"
   ]
  },
  {
   "cell_type": "code",
   "execution_count": 7,
   "id": "48f37d87",
   "metadata": {},
   "outputs": [],
   "source": [
    "import os\n",
    "import pickle\n",
    "import pandas as pd\n",
    "import numpy as np\n",
    "lang_dir = 'Segments/3/H/'\n",
    "\n",
    "df = calculate_gmm_scores(lang_dir,128)\n",
    "#calculate_and_store_scores(directory,nbr)"
   ]
  },
  {
   "cell_type": "code",
   "execution_count": 8,
   "id": "8cecf7ac",
   "metadata": {},
   "outputs": [
    {
     "data": {
      "text/html": [
       "<div>\n",
       "<style scoped>\n",
       "    .dataframe tbody tr th:only-of-type {\n",
       "        vertical-align: middle;\n",
       "    }\n",
       "\n",
       "    .dataframe tbody tr th {\n",
       "        vertical-align: top;\n",
       "    }\n",
       "\n",
       "    .dataframe thead th {\n",
       "        text-align: right;\n",
       "    }\n",
       "</style>\n",
       "<table border=\"1\" class=\"dataframe\">\n",
       "  <thead>\n",
       "    <tr style=\"text-align: right;\">\n",
       "      <th></th>\n",
       "      <th>Recording Name</th>\n",
       "      <th>Model Name</th>\n",
       "      <th>Score</th>\n",
       "    </tr>\n",
       "  </thead>\n",
       "  <tbody>\n",
       "    <tr>\n",
       "      <th>0</th>\n",
       "      <td>H1.3.1</td>\n",
       "      <td>H1.128</td>\n",
       "      <td>-50.886092</td>\n",
       "    </tr>\n",
       "    <tr>\n",
       "      <th>1</th>\n",
       "      <td>H1.3.1</td>\n",
       "      <td>H2.128</td>\n",
       "      <td>-454.760850</td>\n",
       "    </tr>\n",
       "    <tr>\n",
       "      <th>2</th>\n",
       "      <td>H1.3.1</td>\n",
       "      <td>H4.128</td>\n",
       "      <td>-549.383008</td>\n",
       "    </tr>\n",
       "    <tr>\n",
       "      <th>3</th>\n",
       "      <td>H1.3.1</td>\n",
       "      <td>H5.128</td>\n",
       "      <td>-590.224754</td>\n",
       "    </tr>\n",
       "    <tr>\n",
       "      <th>4</th>\n",
       "      <td>H1.3.1</td>\n",
       "      <td>H6.128</td>\n",
       "      <td>-257.973788</td>\n",
       "    </tr>\n",
       "    <tr>\n",
       "      <th>...</th>\n",
       "      <td>...</td>\n",
       "      <td>...</td>\n",
       "      <td>...</td>\n",
       "    </tr>\n",
       "    <tr>\n",
       "      <th>1275</th>\n",
       "      <td>H9.3.9</td>\n",
       "      <td>H5.128</td>\n",
       "      <td>-1506.834968</td>\n",
       "    </tr>\n",
       "    <tr>\n",
       "      <th>1276</th>\n",
       "      <td>H9.3.9</td>\n",
       "      <td>H6.128</td>\n",
       "      <td>-419.830360</td>\n",
       "    </tr>\n",
       "    <tr>\n",
       "      <th>1277</th>\n",
       "      <td>H9.3.9</td>\n",
       "      <td>H7.128</td>\n",
       "      <td>-119.772256</td>\n",
       "    </tr>\n",
       "    <tr>\n",
       "      <th>1278</th>\n",
       "      <td>H9.3.9</td>\n",
       "      <td>H8.128</td>\n",
       "      <td>-82.459810</td>\n",
       "    </tr>\n",
       "    <tr>\n",
       "      <th>1279</th>\n",
       "      <td>H9.3.9</td>\n",
       "      <td>H9.128</td>\n",
       "      <td>-53.051321</td>\n",
       "    </tr>\n",
       "  </tbody>\n",
       "</table>\n",
       "<p>1280 rows × 3 columns</p>\n",
       "</div>"
      ],
      "text/plain": [
       "     Recording Name Model Name        Score\n",
       "0            H1.3.1     H1.128   -50.886092\n",
       "1            H1.3.1     H2.128  -454.760850\n",
       "2            H1.3.1     H4.128  -549.383008\n",
       "3            H1.3.1     H5.128  -590.224754\n",
       "4            H1.3.1     H6.128  -257.973788\n",
       "...             ...        ...          ...\n",
       "1275         H9.3.9     H5.128 -1506.834968\n",
       "1276         H9.3.9     H6.128  -419.830360\n",
       "1277         H9.3.9     H7.128  -119.772256\n",
       "1278         H9.3.9     H8.128   -82.459810\n",
       "1279         H9.3.9     H9.128   -53.051321\n",
       "\n",
       "[1280 rows x 3 columns]"
      ]
     },
     "execution_count": 8,
     "metadata": {},
     "output_type": "execute_result"
    }
   ],
   "source": [
    "df\n"
   ]
  },
  {
   "cell_type": "code",
   "execution_count": 9,
   "id": "fd51aab1",
   "metadata": {},
   "outputs": [],
   "source": [
    "# Save the DataFrame as a CSV file\n",
    "df.to_csv('df.3s.128.csv', index=False)"
   ]
  },
  {
   "cell_type": "code",
   "execution_count": 11,
   "id": "29c7f717",
   "metadata": {},
   "outputs": [
    {
     "data": {
      "text/plain": [
       "1280"
      ]
     },
     "execution_count": 11,
     "metadata": {},
     "output_type": "execute_result"
    }
   ],
   "source": [
    "len(df)"
   ]
  },
  {
   "cell_type": "code",
   "execution_count": 29,
   "id": "d95f1b73",
   "metadata": {},
   "outputs": [],
   "source": [
    "def verify_max_score(df):\n",
    "    # Find the index of the maximum score\n",
    "    max_score_index = df['Score'].idxmax()\n",
    "\n",
    "    # Get the Recording Name and Model Name of the observation with the maximum score\n",
    "    max_score_recording = df.loc[max_score_index, 'Recording Name']\n",
    "    max_score_model = df.loc[max_score_index, 'Model Name']\n",
    "\n",
    "    # Verify if the Recording Name and Model Name start with the same first 2 characters\n",
    "    same_start = max_score_recording[:2] == max_score_model[:2]\n",
    "\n",
    "    return same_start"
   ]
  },
  {
   "cell_type": "code",
   "execution_count": 109,
   "id": "4199eab4",
   "metadata": {},
   "outputs": [],
   "source": [
    "def calculError(df,sec):\n",
    "    errors = []\n",
    "    for j in range(9):\n",
    "        #print(j)\n",
    "        for k in range(int(60/sec)):\n",
    "            if(j!=2):\n",
    "                extracted_df = df[df['Recording Name'] == 'H'+str(j+1)+'.'+str(sec)+'.'+str(k+1)] \n",
    "                extracted_df = extracted_df.reset_index(drop=True)\n",
    "                verify_max_score(extracted_df)\n",
    "                errors.append(verify_max_score(extracted_df))\n",
    "    return errors.count(False) / len(errors)\n",
    "    "
   ]
  },
  {
   "cell_type": "code",
   "execution_count": 147,
   "id": "cbb9bbeb",
   "metadata": {},
   "outputs": [],
   "source": [
    "def calculErrorF(df,sec):\n",
    "    errors = []\n",
    "    for j in range(11):\n",
    "        #print(j)\n",
    "        for k in range(int(60/sec)):\n",
    "            if(j!=9):\n",
    "                extracted_df = df[df['Recording Name'] == 'F'+str(j+1)+'.'+str(sec)+'.'+str(k+1)] \n",
    "                extracted_df = extracted_df.reset_index(drop=True)\n",
    "                verify_max_score(extracted_df)\n",
    "                errors.append(verify_max_score(extracted_df))\n",
    "    return errors.count(False) / len(errors)\n",
    "    "
   ]
  },
  {
   "cell_type": "code",
   "execution_count": 96,
   "id": "c2f7d1b3",
   "metadata": {},
   "outputs": [],
   "source": [
    "error3 = calculError(df,3)"
   ]
  },
  {
   "cell_type": "code",
   "execution_count": 97,
   "id": "a0f870d2",
   "metadata": {},
   "outputs": [
    {
     "data": {
      "text/plain": [
       "0.0"
      ]
     },
     "execution_count": 97,
     "metadata": {},
     "output_type": "execute_result"
    }
   ],
   "source": [
    "error3 "
   ]
  },
  {
   "cell_type": "code",
   "execution_count": 93,
   "id": "11ffe77d",
   "metadata": {},
   "outputs": [],
   "source": [
    "lang_dir = 'Segments/10/H/'\n",
    "df10 = calculate_gmm_scores(lang_dir,128)\n",
    "#calculate_and_store_scores(directory,nbr)"
   ]
  },
  {
   "cell_type": "code",
   "execution_count": 120,
   "id": "ab351616",
   "metadata": {},
   "outputs": [],
   "source": [
    "# Save the DataFrame as a CSV file\n",
    "df10.to_csv('df.10s.128.csv', index=False)"
   ]
  },
  {
   "cell_type": "code",
   "execution_count": 103,
   "id": "3d7c1c2f",
   "metadata": {},
   "outputs": [
    {
     "data": {
      "text/html": [
       "<div>\n",
       "<style scoped>\n",
       "    .dataframe tbody tr th:only-of-type {\n",
       "        vertical-align: middle;\n",
       "    }\n",
       "\n",
       "    .dataframe tbody tr th {\n",
       "        vertical-align: top;\n",
       "    }\n",
       "\n",
       "    .dataframe thead th {\n",
       "        text-align: right;\n",
       "    }\n",
       "</style>\n",
       "<table border=\"1\" class=\"dataframe\">\n",
       "  <thead>\n",
       "    <tr style=\"text-align: right;\">\n",
       "      <th></th>\n",
       "      <th>Recording Name</th>\n",
       "      <th>Model Name</th>\n",
       "      <th>Score</th>\n",
       "    </tr>\n",
       "  </thead>\n",
       "  <tbody>\n",
       "    <tr>\n",
       "      <th>0</th>\n",
       "      <td>H1.10.1</td>\n",
       "      <td>H1.128</td>\n",
       "      <td>-51.645914</td>\n",
       "    </tr>\n",
       "    <tr>\n",
       "      <th>1</th>\n",
       "      <td>H1.10.1</td>\n",
       "      <td>H2.128</td>\n",
       "      <td>-458.835983</td>\n",
       "    </tr>\n",
       "    <tr>\n",
       "      <th>2</th>\n",
       "      <td>H1.10.1</td>\n",
       "      <td>H4.128</td>\n",
       "      <td>-513.772490</td>\n",
       "    </tr>\n",
       "    <tr>\n",
       "      <th>3</th>\n",
       "      <td>H1.10.1</td>\n",
       "      <td>H5.128</td>\n",
       "      <td>-696.294433</td>\n",
       "    </tr>\n",
       "    <tr>\n",
       "      <th>4</th>\n",
       "      <td>H1.10.1</td>\n",
       "      <td>H6.128</td>\n",
       "      <td>-252.437392</td>\n",
       "    </tr>\n",
       "    <tr>\n",
       "      <th>5</th>\n",
       "      <td>H1.10.1</td>\n",
       "      <td>H7.128</td>\n",
       "      <td>-92.375921</td>\n",
       "    </tr>\n",
       "    <tr>\n",
       "      <th>6</th>\n",
       "      <td>H1.10.1</td>\n",
       "      <td>H8.128</td>\n",
       "      <td>-75.403896</td>\n",
       "    </tr>\n",
       "    <tr>\n",
       "      <th>7</th>\n",
       "      <td>H1.10.1</td>\n",
       "      <td>H9.128</td>\n",
       "      <td>-76.228145</td>\n",
       "    </tr>\n",
       "    <tr>\n",
       "      <th>8</th>\n",
       "      <td>H1.10.2</td>\n",
       "      <td>H1.128</td>\n",
       "      <td>-51.880918</td>\n",
       "    </tr>\n",
       "    <tr>\n",
       "      <th>9</th>\n",
       "      <td>H1.10.2</td>\n",
       "      <td>H2.128</td>\n",
       "      <td>-440.487532</td>\n",
       "    </tr>\n",
       "    <tr>\n",
       "      <th>10</th>\n",
       "      <td>H1.10.2</td>\n",
       "      <td>H4.128</td>\n",
       "      <td>-456.219784</td>\n",
       "    </tr>\n",
       "    <tr>\n",
       "      <th>11</th>\n",
       "      <td>H1.10.2</td>\n",
       "      <td>H5.128</td>\n",
       "      <td>-739.697980</td>\n",
       "    </tr>\n",
       "    <tr>\n",
       "      <th>12</th>\n",
       "      <td>H1.10.2</td>\n",
       "      <td>H6.128</td>\n",
       "      <td>-241.050927</td>\n",
       "    </tr>\n",
       "    <tr>\n",
       "      <th>13</th>\n",
       "      <td>H1.10.2</td>\n",
       "      <td>H7.128</td>\n",
       "      <td>-92.336595</td>\n",
       "    </tr>\n",
       "    <tr>\n",
       "      <th>14</th>\n",
       "      <td>H1.10.2</td>\n",
       "      <td>H8.128</td>\n",
       "      <td>-76.075176</td>\n",
       "    </tr>\n",
       "    <tr>\n",
       "      <th>15</th>\n",
       "      <td>H1.10.2</td>\n",
       "      <td>H9.128</td>\n",
       "      <td>-80.388306</td>\n",
       "    </tr>\n",
       "    <tr>\n",
       "      <th>16</th>\n",
       "      <td>H1.10.3</td>\n",
       "      <td>H1.128</td>\n",
       "      <td>-51.389399</td>\n",
       "    </tr>\n",
       "    <tr>\n",
       "      <th>17</th>\n",
       "      <td>H1.10.3</td>\n",
       "      <td>H2.128</td>\n",
       "      <td>-447.888916</td>\n",
       "    </tr>\n",
       "    <tr>\n",
       "      <th>18</th>\n",
       "      <td>H1.10.3</td>\n",
       "      <td>H4.128</td>\n",
       "      <td>-423.066394</td>\n",
       "    </tr>\n",
       "    <tr>\n",
       "      <th>19</th>\n",
       "      <td>H1.10.3</td>\n",
       "      <td>H5.128</td>\n",
       "      <td>-687.401457</td>\n",
       "    </tr>\n",
       "    <tr>\n",
       "      <th>20</th>\n",
       "      <td>H1.10.3</td>\n",
       "      <td>H6.128</td>\n",
       "      <td>-234.607607</td>\n",
       "    </tr>\n",
       "    <tr>\n",
       "      <th>21</th>\n",
       "      <td>H1.10.3</td>\n",
       "      <td>H7.128</td>\n",
       "      <td>-90.729767</td>\n",
       "    </tr>\n",
       "    <tr>\n",
       "      <th>22</th>\n",
       "      <td>H1.10.3</td>\n",
       "      <td>H8.128</td>\n",
       "      <td>-75.656427</td>\n",
       "    </tr>\n",
       "    <tr>\n",
       "      <th>23</th>\n",
       "      <td>H1.10.3</td>\n",
       "      <td>H9.128</td>\n",
       "      <td>-79.206200</td>\n",
       "    </tr>\n",
       "    <tr>\n",
       "      <th>24</th>\n",
       "      <td>H1.10.4</td>\n",
       "      <td>H1.128</td>\n",
       "      <td>-51.591870</td>\n",
       "    </tr>\n",
       "    <tr>\n",
       "      <th>25</th>\n",
       "      <td>H1.10.4</td>\n",
       "      <td>H2.128</td>\n",
       "      <td>-445.569829</td>\n",
       "    </tr>\n",
       "    <tr>\n",
       "      <th>26</th>\n",
       "      <td>H1.10.4</td>\n",
       "      <td>H4.128</td>\n",
       "      <td>-465.194720</td>\n",
       "    </tr>\n",
       "    <tr>\n",
       "      <th>27</th>\n",
       "      <td>H1.10.4</td>\n",
       "      <td>H5.128</td>\n",
       "      <td>-599.135570</td>\n",
       "    </tr>\n",
       "    <tr>\n",
       "      <th>28</th>\n",
       "      <td>H1.10.4</td>\n",
       "      <td>H6.128</td>\n",
       "      <td>-237.540969</td>\n",
       "    </tr>\n",
       "    <tr>\n",
       "      <th>29</th>\n",
       "      <td>H1.10.4</td>\n",
       "      <td>H7.128</td>\n",
       "      <td>-91.132331</td>\n",
       "    </tr>\n",
       "    <tr>\n",
       "      <th>30</th>\n",
       "      <td>H1.10.4</td>\n",
       "      <td>H8.128</td>\n",
       "      <td>-72.001268</td>\n",
       "    </tr>\n",
       "    <tr>\n",
       "      <th>31</th>\n",
       "      <td>H1.10.4</td>\n",
       "      <td>H9.128</td>\n",
       "      <td>-78.558612</td>\n",
       "    </tr>\n",
       "    <tr>\n",
       "      <th>32</th>\n",
       "      <td>H1.10.5</td>\n",
       "      <td>H1.128</td>\n",
       "      <td>-52.837224</td>\n",
       "    </tr>\n",
       "    <tr>\n",
       "      <th>33</th>\n",
       "      <td>H1.10.5</td>\n",
       "      <td>H2.128</td>\n",
       "      <td>-365.971358</td>\n",
       "    </tr>\n",
       "    <tr>\n",
       "      <th>34</th>\n",
       "      <td>H1.10.5</td>\n",
       "      <td>H4.128</td>\n",
       "      <td>-516.806397</td>\n",
       "    </tr>\n",
       "    <tr>\n",
       "      <th>35</th>\n",
       "      <td>H1.10.5</td>\n",
       "      <td>H5.128</td>\n",
       "      <td>-623.617817</td>\n",
       "    </tr>\n",
       "    <tr>\n",
       "      <th>36</th>\n",
       "      <td>H1.10.5</td>\n",
       "      <td>H6.128</td>\n",
       "      <td>-223.171872</td>\n",
       "    </tr>\n",
       "    <tr>\n",
       "      <th>37</th>\n",
       "      <td>H1.10.5</td>\n",
       "      <td>H7.128</td>\n",
       "      <td>-89.284903</td>\n",
       "    </tr>\n",
       "    <tr>\n",
       "      <th>38</th>\n",
       "      <td>H1.10.5</td>\n",
       "      <td>H8.128</td>\n",
       "      <td>-69.391442</td>\n",
       "    </tr>\n",
       "    <tr>\n",
       "      <th>39</th>\n",
       "      <td>H1.10.5</td>\n",
       "      <td>H9.128</td>\n",
       "      <td>-76.873377</td>\n",
       "    </tr>\n",
       "    <tr>\n",
       "      <th>40</th>\n",
       "      <td>H1.10.6</td>\n",
       "      <td>H1.128</td>\n",
       "      <td>-50.285810</td>\n",
       "    </tr>\n",
       "    <tr>\n",
       "      <th>41</th>\n",
       "      <td>H1.10.6</td>\n",
       "      <td>H2.128</td>\n",
       "      <td>-439.244790</td>\n",
       "    </tr>\n",
       "    <tr>\n",
       "      <th>42</th>\n",
       "      <td>H1.10.6</td>\n",
       "      <td>H4.128</td>\n",
       "      <td>-374.603303</td>\n",
       "    </tr>\n",
       "    <tr>\n",
       "      <th>43</th>\n",
       "      <td>H1.10.6</td>\n",
       "      <td>H5.128</td>\n",
       "      <td>-707.749391</td>\n",
       "    </tr>\n",
       "    <tr>\n",
       "      <th>44</th>\n",
       "      <td>H1.10.6</td>\n",
       "      <td>H6.128</td>\n",
       "      <td>-225.678043</td>\n",
       "    </tr>\n",
       "    <tr>\n",
       "      <th>45</th>\n",
       "      <td>H1.10.6</td>\n",
       "      <td>H7.128</td>\n",
       "      <td>-93.239264</td>\n",
       "    </tr>\n",
       "    <tr>\n",
       "      <th>46</th>\n",
       "      <td>H1.10.6</td>\n",
       "      <td>H8.128</td>\n",
       "      <td>-76.401613</td>\n",
       "    </tr>\n",
       "    <tr>\n",
       "      <th>47</th>\n",
       "      <td>H1.10.6</td>\n",
       "      <td>H9.128</td>\n",
       "      <td>-81.414111</td>\n",
       "    </tr>\n",
       "    <tr>\n",
       "      <th>48</th>\n",
       "      <td>H2.10.1</td>\n",
       "      <td>H1.128</td>\n",
       "      <td>-73.419174</td>\n",
       "    </tr>\n",
       "    <tr>\n",
       "      <th>49</th>\n",
       "      <td>H2.10.1</td>\n",
       "      <td>H2.128</td>\n",
       "      <td>-47.375189</td>\n",
       "    </tr>\n",
       "    <tr>\n",
       "      <th>50</th>\n",
       "      <td>H2.10.1</td>\n",
       "      <td>H4.128</td>\n",
       "      <td>-595.840221</td>\n",
       "    </tr>\n",
       "    <tr>\n",
       "      <th>51</th>\n",
       "      <td>H2.10.1</td>\n",
       "      <td>H5.128</td>\n",
       "      <td>-1497.180918</td>\n",
       "    </tr>\n",
       "    <tr>\n",
       "      <th>52</th>\n",
       "      <td>H2.10.1</td>\n",
       "      <td>H6.128</td>\n",
       "      <td>-275.557946</td>\n",
       "    </tr>\n",
       "    <tr>\n",
       "      <th>53</th>\n",
       "      <td>H2.10.1</td>\n",
       "      <td>H7.128</td>\n",
       "      <td>-91.145095</td>\n",
       "    </tr>\n",
       "    <tr>\n",
       "      <th>54</th>\n",
       "      <td>H2.10.1</td>\n",
       "      <td>H8.128</td>\n",
       "      <td>-75.575077</td>\n",
       "    </tr>\n",
       "    <tr>\n",
       "      <th>55</th>\n",
       "      <td>H2.10.1</td>\n",
       "      <td>H9.128</td>\n",
       "      <td>-95.641401</td>\n",
       "    </tr>\n",
       "    <tr>\n",
       "      <th>56</th>\n",
       "      <td>H2.10.2</td>\n",
       "      <td>H1.128</td>\n",
       "      <td>-72.537600</td>\n",
       "    </tr>\n",
       "    <tr>\n",
       "      <th>57</th>\n",
       "      <td>H2.10.2</td>\n",
       "      <td>H2.128</td>\n",
       "      <td>-47.106673</td>\n",
       "    </tr>\n",
       "    <tr>\n",
       "      <th>58</th>\n",
       "      <td>H2.10.2</td>\n",
       "      <td>H4.128</td>\n",
       "      <td>-602.779068</td>\n",
       "    </tr>\n",
       "    <tr>\n",
       "      <th>59</th>\n",
       "      <td>H2.10.2</td>\n",
       "      <td>H5.128</td>\n",
       "      <td>-1528.160435</td>\n",
       "    </tr>\n",
       "  </tbody>\n",
       "</table>\n",
       "</div>"
      ],
      "text/plain": [
       "   Recording Name Model Name        Score\n",
       "0         H1.10.1     H1.128   -51.645914\n",
       "1         H1.10.1     H2.128  -458.835983\n",
       "2         H1.10.1     H4.128  -513.772490\n",
       "3         H1.10.1     H5.128  -696.294433\n",
       "4         H1.10.1     H6.128  -252.437392\n",
       "5         H1.10.1     H7.128   -92.375921\n",
       "6         H1.10.1     H8.128   -75.403896\n",
       "7         H1.10.1     H9.128   -76.228145\n",
       "8         H1.10.2     H1.128   -51.880918\n",
       "9         H1.10.2     H2.128  -440.487532\n",
       "10        H1.10.2     H4.128  -456.219784\n",
       "11        H1.10.2     H5.128  -739.697980\n",
       "12        H1.10.2     H6.128  -241.050927\n",
       "13        H1.10.2     H7.128   -92.336595\n",
       "14        H1.10.2     H8.128   -76.075176\n",
       "15        H1.10.2     H9.128   -80.388306\n",
       "16        H1.10.3     H1.128   -51.389399\n",
       "17        H1.10.3     H2.128  -447.888916\n",
       "18        H1.10.3     H4.128  -423.066394\n",
       "19        H1.10.3     H5.128  -687.401457\n",
       "20        H1.10.3     H6.128  -234.607607\n",
       "21        H1.10.3     H7.128   -90.729767\n",
       "22        H1.10.3     H8.128   -75.656427\n",
       "23        H1.10.3     H9.128   -79.206200\n",
       "24        H1.10.4     H1.128   -51.591870\n",
       "25        H1.10.4     H2.128  -445.569829\n",
       "26        H1.10.4     H4.128  -465.194720\n",
       "27        H1.10.4     H5.128  -599.135570\n",
       "28        H1.10.4     H6.128  -237.540969\n",
       "29        H1.10.4     H7.128   -91.132331\n",
       "30        H1.10.4     H8.128   -72.001268\n",
       "31        H1.10.4     H9.128   -78.558612\n",
       "32        H1.10.5     H1.128   -52.837224\n",
       "33        H1.10.5     H2.128  -365.971358\n",
       "34        H1.10.5     H4.128  -516.806397\n",
       "35        H1.10.5     H5.128  -623.617817\n",
       "36        H1.10.5     H6.128  -223.171872\n",
       "37        H1.10.5     H7.128   -89.284903\n",
       "38        H1.10.5     H8.128   -69.391442\n",
       "39        H1.10.5     H9.128   -76.873377\n",
       "40        H1.10.6     H1.128   -50.285810\n",
       "41        H1.10.6     H2.128  -439.244790\n",
       "42        H1.10.6     H4.128  -374.603303\n",
       "43        H1.10.6     H5.128  -707.749391\n",
       "44        H1.10.6     H6.128  -225.678043\n",
       "45        H1.10.6     H7.128   -93.239264\n",
       "46        H1.10.6     H8.128   -76.401613\n",
       "47        H1.10.6     H9.128   -81.414111\n",
       "48        H2.10.1     H1.128   -73.419174\n",
       "49        H2.10.1     H2.128   -47.375189\n",
       "50        H2.10.1     H4.128  -595.840221\n",
       "51        H2.10.1     H5.128 -1497.180918\n",
       "52        H2.10.1     H6.128  -275.557946\n",
       "53        H2.10.1     H7.128   -91.145095\n",
       "54        H2.10.1     H8.128   -75.575077\n",
       "55        H2.10.1     H9.128   -95.641401\n",
       "56        H2.10.2     H1.128   -72.537600\n",
       "57        H2.10.2     H2.128   -47.106673\n",
       "58        H2.10.2     H4.128  -602.779068\n",
       "59        H2.10.2     H5.128 -1528.160435"
      ]
     },
     "execution_count": 103,
     "metadata": {},
     "output_type": "execute_result"
    }
   ],
   "source": [
    "df10[:60]"
   ]
  },
  {
   "cell_type": "code",
   "execution_count": 135,
   "id": "6939307e",
   "metadata": {},
   "outputs": [],
   "source": [
    "error10 = calculError(df10,10)"
   ]
  },
  {
   "cell_type": "code",
   "execution_count": 111,
   "id": "ce291d8e",
   "metadata": {},
   "outputs": [
    {
     "data": {
      "text/plain": [
       "0.0"
      ]
     },
     "execution_count": 111,
     "metadata": {},
     "output_type": "execute_result"
    }
   ],
   "source": [
    "error10"
   ]
  },
  {
   "cell_type": "code",
   "execution_count": 112,
   "id": "5231043d",
   "metadata": {},
   "outputs": [],
   "source": [
    "lang_dir = 'Segments/15/H/'\n",
    "df15 = calculate_gmm_scores(lang_dir,128)\n",
    "#calculate_and_store_scores(directory,nbr)"
   ]
  },
  {
   "cell_type": "code",
   "execution_count": 121,
   "id": "e910bb0d",
   "metadata": {},
   "outputs": [],
   "source": [
    "# Save the DataFrame as a CSV file\n",
    "df15.to_csv('df.15s.128.csv', index=False)"
   ]
  },
  {
   "cell_type": "code",
   "execution_count": 113,
   "id": "43eb7d91",
   "metadata": {},
   "outputs": [
    {
     "data": {
      "text/html": [
       "<div>\n",
       "<style scoped>\n",
       "    .dataframe tbody tr th:only-of-type {\n",
       "        vertical-align: middle;\n",
       "    }\n",
       "\n",
       "    .dataframe tbody tr th {\n",
       "        vertical-align: top;\n",
       "    }\n",
       "\n",
       "    .dataframe thead th {\n",
       "        text-align: right;\n",
       "    }\n",
       "</style>\n",
       "<table border=\"1\" class=\"dataframe\">\n",
       "  <thead>\n",
       "    <tr style=\"text-align: right;\">\n",
       "      <th></th>\n",
       "      <th>Recording Name</th>\n",
       "      <th>Model Name</th>\n",
       "      <th>Score</th>\n",
       "    </tr>\n",
       "  </thead>\n",
       "  <tbody>\n",
       "    <tr>\n",
       "      <th>0</th>\n",
       "      <td>H1.15.1</td>\n",
       "      <td>H1.128</td>\n",
       "      <td>-51.804320</td>\n",
       "    </tr>\n",
       "    <tr>\n",
       "      <th>1</th>\n",
       "      <td>H1.15.1</td>\n",
       "      <td>H2.128</td>\n",
       "      <td>-451.095095</td>\n",
       "    </tr>\n",
       "    <tr>\n",
       "      <th>2</th>\n",
       "      <td>H1.15.1</td>\n",
       "      <td>H4.128</td>\n",
       "      <td>-487.511570</td>\n",
       "    </tr>\n",
       "    <tr>\n",
       "      <th>3</th>\n",
       "      <td>H1.15.1</td>\n",
       "      <td>H5.128</td>\n",
       "      <td>-728.030524</td>\n",
       "    </tr>\n",
       "    <tr>\n",
       "      <th>4</th>\n",
       "      <td>H1.15.1</td>\n",
       "      <td>H6.128</td>\n",
       "      <td>-251.790336</td>\n",
       "    </tr>\n",
       "    <tr>\n",
       "      <th>...</th>\n",
       "      <td>...</td>\n",
       "      <td>...</td>\n",
       "      <td>...</td>\n",
       "    </tr>\n",
       "    <tr>\n",
       "      <th>251</th>\n",
       "      <td>H9.15.4</td>\n",
       "      <td>H5.128</td>\n",
       "      <td>-1363.760293</td>\n",
       "    </tr>\n",
       "    <tr>\n",
       "      <th>252</th>\n",
       "      <td>H9.15.4</td>\n",
       "      <td>H6.128</td>\n",
       "      <td>-460.808751</td>\n",
       "    </tr>\n",
       "    <tr>\n",
       "      <th>253</th>\n",
       "      <td>H9.15.4</td>\n",
       "      <td>H7.128</td>\n",
       "      <td>-119.875001</td>\n",
       "    </tr>\n",
       "    <tr>\n",
       "      <th>254</th>\n",
       "      <td>H9.15.4</td>\n",
       "      <td>H8.128</td>\n",
       "      <td>-84.725324</td>\n",
       "    </tr>\n",
       "    <tr>\n",
       "      <th>255</th>\n",
       "      <td>H9.15.4</td>\n",
       "      <td>H9.128</td>\n",
       "      <td>-51.790863</td>\n",
       "    </tr>\n",
       "  </tbody>\n",
       "</table>\n",
       "<p>256 rows × 3 columns</p>\n",
       "</div>"
      ],
      "text/plain": [
       "    Recording Name Model Name        Score\n",
       "0          H1.15.1     H1.128   -51.804320\n",
       "1          H1.15.1     H2.128  -451.095095\n",
       "2          H1.15.1     H4.128  -487.511570\n",
       "3          H1.15.1     H5.128  -728.030524\n",
       "4          H1.15.1     H6.128  -251.790336\n",
       "..             ...        ...          ...\n",
       "251        H9.15.4     H5.128 -1363.760293\n",
       "252        H9.15.4     H6.128  -460.808751\n",
       "253        H9.15.4     H7.128  -119.875001\n",
       "254        H9.15.4     H8.128   -84.725324\n",
       "255        H9.15.4     H9.128   -51.790863\n",
       "\n",
       "[256 rows x 3 columns]"
      ]
     },
     "execution_count": 113,
     "metadata": {},
     "output_type": "execute_result"
    }
   ],
   "source": [
    "df15"
   ]
  },
  {
   "cell_type": "code",
   "execution_count": 115,
   "id": "874b84dc",
   "metadata": {},
   "outputs": [],
   "source": [
    "error15 = calculError(df15,15)"
   ]
  },
  {
   "cell_type": "code",
   "execution_count": 116,
   "id": "30983970",
   "metadata": {},
   "outputs": [
    {
     "data": {
      "text/plain": [
       "0.0"
      ]
     },
     "execution_count": 116,
     "metadata": {},
     "output_type": "execute_result"
    }
   ],
   "source": [
    "error15"
   ]
  },
  {
   "cell_type": "code",
   "execution_count": 117,
   "id": "c3fc3954",
   "metadata": {},
   "outputs": [],
   "source": [
    "lang_dir = 'Segments/30/H/'\n",
    "df30 = calculate_gmm_scores(lang_dir,128)\n",
    "#calculate_and_store_scores(directory,nbr)"
   ]
  },
  {
   "cell_type": "code",
   "execution_count": 122,
   "id": "7d1481c6",
   "metadata": {},
   "outputs": [],
   "source": [
    "# Save the DataFrame as a CSV file\n",
    "df30.to_csv('df.30s.128.csv', index=False)"
   ]
  },
  {
   "cell_type": "code",
   "execution_count": 118,
   "id": "06d73c3d",
   "metadata": {},
   "outputs": [],
   "source": [
    "error30 = calculError(df30,30)"
   ]
  },
  {
   "cell_type": "code",
   "execution_count": 119,
   "id": "839c9e2f",
   "metadata": {},
   "outputs": [
    {
     "data": {
      "text/plain": [
       "0.0"
      ]
     },
     "execution_count": 119,
     "metadata": {},
     "output_type": "execute_result"
    }
   ],
   "source": [
    "error30"
   ]
  },
  {
   "cell_type": "markdown",
   "id": "0949963c",
   "metadata": {},
   "source": [
    "### Femmes:"
   ]
  },
  {
   "cell_type": "code",
   "execution_count": 124,
   "id": "f45e3b84",
   "metadata": {},
   "outputs": [],
   "source": [
    "lang_dir = 'Segments/3/F/'\n",
    "df5F = calculate_gmm_scores(lang_dir,128)\n",
    "#calculate_and_store_scores(directory,nbr)"
   ]
  },
  {
   "cell_type": "code",
   "execution_count": 142,
   "id": "f461d9a7",
   "metadata": {},
   "outputs": [
    {
     "data": {
      "text/html": [
       "<div>\n",
       "<style scoped>\n",
       "    .dataframe tbody tr th:only-of-type {\n",
       "        vertical-align: middle;\n",
       "    }\n",
       "\n",
       "    .dataframe tbody tr th {\n",
       "        vertical-align: top;\n",
       "    }\n",
       "\n",
       "    .dataframe thead th {\n",
       "        text-align: right;\n",
       "    }\n",
       "</style>\n",
       "<table border=\"1\" class=\"dataframe\">\n",
       "  <thead>\n",
       "    <tr style=\"text-align: right;\">\n",
       "      <th></th>\n",
       "      <th>Recording Name</th>\n",
       "      <th>Model Name</th>\n",
       "      <th>Score</th>\n",
       "    </tr>\n",
       "  </thead>\n",
       "  <tbody>\n",
       "    <tr>\n",
       "      <th>0</th>\n",
       "      <td>F1.3.1</td>\n",
       "      <td>F1.128</td>\n",
       "      <td>-49.072329</td>\n",
       "    </tr>\n",
       "    <tr>\n",
       "      <th>1</th>\n",
       "      <td>F1.3.1</td>\n",
       "      <td>F11.128</td>\n",
       "      <td>-3532.643913</td>\n",
       "    </tr>\n",
       "    <tr>\n",
       "      <th>2</th>\n",
       "      <td>F1.3.1</td>\n",
       "      <td>F2.128</td>\n",
       "      <td>-615.604189</td>\n",
       "    </tr>\n",
       "    <tr>\n",
       "      <th>3</th>\n",
       "      <td>F1.3.1</td>\n",
       "      <td>F3 .128</td>\n",
       "      <td>-134.990438</td>\n",
       "    </tr>\n",
       "    <tr>\n",
       "      <th>4</th>\n",
       "      <td>F1.3.1</td>\n",
       "      <td>F4.128</td>\n",
       "      <td>-409.683721</td>\n",
       "    </tr>\n",
       "    <tr>\n",
       "      <th>...</th>\n",
       "      <td>...</td>\n",
       "      <td>...</td>\n",
       "      <td>...</td>\n",
       "    </tr>\n",
       "    <tr>\n",
       "      <th>1993</th>\n",
       "      <td>F9.3.9</td>\n",
       "      <td>F3 .128</td>\n",
       "      <td>-86.424284</td>\n",
       "    </tr>\n",
       "    <tr>\n",
       "      <th>1994</th>\n",
       "      <td>F9.3.9</td>\n",
       "      <td>F4.128</td>\n",
       "      <td>-659.103476</td>\n",
       "    </tr>\n",
       "    <tr>\n",
       "      <th>1995</th>\n",
       "      <td>F9.3.9</td>\n",
       "      <td>F5.128</td>\n",
       "      <td>-1112.593839</td>\n",
       "    </tr>\n",
       "    <tr>\n",
       "      <th>1996</th>\n",
       "      <td>F9.3.9</td>\n",
       "      <td>F6.128</td>\n",
       "      <td>-69.456251</td>\n",
       "    </tr>\n",
       "    <tr>\n",
       "      <th>1999</th>\n",
       "      <td>F9.3.9</td>\n",
       "      <td>F9.128</td>\n",
       "      <td>-44.705080</td>\n",
       "    </tr>\n",
       "  </tbody>\n",
       "</table>\n",
       "<p>2000 rows × 3 columns</p>\n",
       "</div>"
      ],
      "text/plain": [
       "     Recording Name Model Name        Score\n",
       "0            F1.3.1     F1.128   -49.072329\n",
       "1            F1.3.1    F11.128 -3532.643913\n",
       "2            F1.3.1     F2.128  -615.604189\n",
       "3            F1.3.1    F3 .128  -134.990438\n",
       "4            F1.3.1     F4.128  -409.683721\n",
       "...             ...        ...          ...\n",
       "1993         F9.3.9    F3 .128   -86.424284\n",
       "1994         F9.3.9     F4.128  -659.103476\n",
       "1995         F9.3.9     F5.128 -1112.593839\n",
       "1996         F9.3.9     F6.128   -69.456251\n",
       "1999         F9.3.9     F9.128   -44.705080\n",
       "\n",
       "[2000 rows x 3 columns]"
      ]
     },
     "execution_count": 142,
     "metadata": {},
     "output_type": "execute_result"
    }
   ],
   "source": [
    "df5F = df5F.sort_values(by='Recording Name')\n",
    "df5F"
   ]
  },
  {
   "cell_type": "code",
   "execution_count": 161,
   "id": "06ee04f5",
   "metadata": {},
   "outputs": [
    {
     "data": {
      "text/plain": [
       "0.025"
      ]
     },
     "execution_count": 161,
     "metadata": {},
     "output_type": "execute_result"
    }
   ],
   "source": [
    "err3 = calculErrorF(df5F,3)\n",
    "err3 "
   ]
  },
  {
   "cell_type": "code",
   "execution_count": 126,
   "id": "f1ee2c61",
   "metadata": {},
   "outputs": [],
   "source": [
    "# Save the DataFrame as a CSV file\n",
    "df5F.to_csv('df.3s.f.128.csv', index=False)"
   ]
  },
  {
   "cell_type": "code",
   "execution_count": 127,
   "id": "f015e26f",
   "metadata": {},
   "outputs": [],
   "source": [
    "lang_dir = 'Segments/10/F/'\n",
    " df10F = calculate_gmm_scores(lang_dir,128)"
   ]
  },
  {
   "cell_type": "code",
   "execution_count": 158,
   "id": "ccee8757",
   "metadata": {},
   "outputs": [
    {
     "data": {
      "text/plain": [
       "0.03333333333333333"
      ]
     },
     "execution_count": 158,
     "metadata": {},
     "output_type": "execute_result"
    }
   ],
   "source": [
    "err10 = calculErrorF(df10F,10)\n",
    "err10"
   ]
  },
  {
   "cell_type": "code",
   "execution_count": 128,
   "id": "4f40254e",
   "metadata": {},
   "outputs": [],
   "source": [
    "df10F.to_csv('df.10s.f.128.csv', index=False)"
   ]
  },
  {
   "cell_type": "code",
   "execution_count": 129,
   "id": "19410b89",
   "metadata": {},
   "outputs": [],
   "source": [
    "lang_dir = 'Segments/15/F/'\n",
    "df15F = calculate_gmm_scores(lang_dir,128)"
   ]
  },
  {
   "cell_type": "code",
   "execution_count": 163,
   "id": "34bb422b",
   "metadata": {},
   "outputs": [
    {
     "data": {
      "text/plain": [
       "0.025"
      ]
     },
     "execution_count": 163,
     "metadata": {},
     "output_type": "execute_result"
    }
   ],
   "source": [
    "err15 =calculErrorF(df15F,15)\n",
    "err15 "
   ]
  },
  {
   "cell_type": "code",
   "execution_count": 173,
   "id": "d3579f3e",
   "metadata": {},
   "outputs": [],
   "source": [
    "df15F.to_csv('df.15s.f.128.csv', index=False)"
   ]
  },
  {
   "cell_type": "code",
   "execution_count": null,
   "id": "6d4095c1",
   "metadata": {},
   "outputs": [],
   "source": [
    "lang_dir = 'Segments/30/F/'\n",
    "df30F = calculate_gmm_scores(lang_dir,128)"
   ]
  },
  {
   "cell_type": "code",
   "execution_count": 168,
   "id": "447136f1",
   "metadata": {},
   "outputs": [
    {
     "data": {
      "text/plain": [
       "0.0"
      ]
     },
     "execution_count": 168,
     "metadata": {},
     "output_type": "execute_result"
    }
   ],
   "source": [
    "err30 = calculErrorF(df30F,30)\n",
    "err30 "
   ]
  },
  {
   "cell_type": "code",
   "execution_count": 174,
   "id": "37e78f7f",
   "metadata": {},
   "outputs": [],
   "source": [
    "df30F.to_csv('df.30s.f.128.csv', index=False)"
   ]
  },
  {
   "cell_type": "code",
   "execution_count": 172,
   "id": "895bb99b",
   "metadata": {},
   "outputs": [
    {
     "data": {
      "image/png": "[encoded data removed]",
      "text/plain": [
       "<Figure size 640x480 with 1 Axes>"
      ]
     },
     "metadata": {},
     "output_type": "display_data"
    }
   ],
   "source": [
    "import matplotlib.pyplot as plt\n",
    "\n",
    "# Assuming you have a list of errors for each segment length\n",
    "errors = [err3, err10, err15, err30]\n",
    "\n",
    "# List of segment lengths\n",
    "segments = [3, 10, 15, 30]\n",
    "\n",
    "# Plotting the histogram of errors\n",
    "plt.bar(segments, errors)\n",
    "\n",
    "# Adding labels and title\n",
    "plt.xlabel(\"Segment Length (s)\")\n",
    "plt.ylabel(\"Frequency\")\n",
    "plt.title(\"Histogram of Errors for Different Segment Lengths with gmm128 \")\n",
    "\n",
    "# Display the plot\n",
    "plt.show()\n"
   ]
  },
  {
   "cell_type": "code",
   "execution_count": 205,
   "id": "b3fa0192",
   "metadata": {},
   "outputs": [
    {
     "data": {
      "text/html": [
       "<div>\n",
       "<style scoped>\n",
       "    .dataframe tbody tr th:only-of-type {\n",
       "        vertical-align: middle;\n",
       "    }\n",
       "\n",
       "    .dataframe tbody tr th {\n",
       "        vertical-align: top;\n",
       "    }\n",
       "\n",
       "    .dataframe thead th {\n",
       "        text-align: right;\n",
       "    }\n",
       "</style>\n",
       "<table border=\"1\" class=\"dataframe\">\n",
       "  <thead>\n",
       "    <tr style=\"text-align: right;\">\n",
       "      <th></th>\n",
       "      <th>Recording Name</th>\n",
       "      <th>Model Name</th>\n",
       "      <th>Score</th>\n",
       "    </tr>\n",
       "  </thead>\n",
       "  <tbody>\n",
       "    <tr>\n",
       "      <th>0</th>\n",
       "      <td>F1.30.1</td>\n",
       "      <td>F1.128</td>\n",
       "      <td>-49.824187</td>\n",
       "    </tr>\n",
       "    <tr>\n",
       "      <th>1</th>\n",
       "      <td>F1.30.1</td>\n",
       "      <td>F11.128</td>\n",
       "      <td>-3409.931306</td>\n",
       "    </tr>\n",
       "    <tr>\n",
       "      <th>2</th>\n",
       "      <td>F1.30.1</td>\n",
       "      <td>F2.128</td>\n",
       "      <td>-690.414726</td>\n",
       "    </tr>\n",
       "    <tr>\n",
       "      <th>3</th>\n",
       "      <td>F1.30.1</td>\n",
       "      <td>F3 .128</td>\n",
       "      <td>-130.916233</td>\n",
       "    </tr>\n",
       "    <tr>\n",
       "      <th>4</th>\n",
       "      <td>F1.30.1</td>\n",
       "      <td>F4.128</td>\n",
       "      <td>-361.247691</td>\n",
       "    </tr>\n",
       "    <tr>\n",
       "      <th>...</th>\n",
       "      <td>...</td>\n",
       "      <td>...</td>\n",
       "      <td>...</td>\n",
       "    </tr>\n",
       "    <tr>\n",
       "      <th>195</th>\n",
       "      <td>F9.30.2</td>\n",
       "      <td>F5.128</td>\n",
       "      <td>-1041.926259</td>\n",
       "    </tr>\n",
       "    <tr>\n",
       "      <th>196</th>\n",
       "      <td>F9.30.2</td>\n",
       "      <td>F6.128</td>\n",
       "      <td>-73.359456</td>\n",
       "    </tr>\n",
       "    <tr>\n",
       "      <th>197</th>\n",
       "      <td>F9.30.2</td>\n",
       "      <td>F7.128</td>\n",
       "      <td>-146.683980</td>\n",
       "    </tr>\n",
       "    <tr>\n",
       "      <th>198</th>\n",
       "      <td>F9.30.2</td>\n",
       "      <td>F8.128</td>\n",
       "      <td>-72.230728</td>\n",
       "    </tr>\n",
       "    <tr>\n",
       "      <th>199</th>\n",
       "      <td>F9.30.2</td>\n",
       "      <td>F9.128</td>\n",
       "      <td>-43.214558</td>\n",
       "    </tr>\n",
       "  </tbody>\n",
       "</table>\n",
       "<p>200 rows × 3 columns</p>\n",
       "</div>"
      ],
      "text/plain": [
       "    Recording Name Model Name        Score\n",
       "0          F1.30.1     F1.128   -49.824187\n",
       "1          F1.30.1    F11.128 -3409.931306\n",
       "2          F1.30.1     F2.128  -690.414726\n",
       "3          F1.30.1    F3 .128  -130.916233\n",
       "4          F1.30.1     F4.128  -361.247691\n",
       "..             ...        ...          ...\n",
       "195        F9.30.2     F5.128 -1041.926259\n",
       "196        F9.30.2     F6.128   -73.359456\n",
       "197        F9.30.2     F7.128  -146.683980\n",
       "198        F9.30.2     F8.128   -72.230728\n",
       "199        F9.30.2     F9.128   -43.214558\n",
       "\n",
       "[200 rows x 3 columns]"
      ]
     },
     "execution_count": 205,
     "metadata": {},
     "output_type": "execute_result"
    }
   ],
   "source": [
    "df30F"
   ]
  },
  {
   "cell_type": "code",
   "execution_count": 228,
   "id": "e8c5d95a",
   "metadata": {},
   "outputs": [],
   "source": [
    "#nbr total des acces imposter :\n",
    "NAI = 180 #acces imposer\n",
    "NAC =20 #acces client "
   ]
  },
  {
   "cell_type": "code",
   "execution_count": 206,
   "id": "e7c8ca74",
   "metadata": {},
   "outputs": [
    {
     "data": {
      "text/plain": [
       "'F1'"
      ]
     },
     "execution_count": 206,
     "metadata": {},
     "output_type": "execute_result"
    }
   ],
   "source": [
    "df30F.iloc[0][1][:2]"
   ]
  },
  {
   "cell_type": "code",
   "execution_count": 240,
   "id": "5bec4969",
   "metadata": {},
   "outputs": [],
   "source": [
    "def nbrTotal(df):\n",
    "    NAC =0\n",
    "    NAI=0\n",
    "    for i in range(len(df)):\n",
    "        if ( df.iloc[i][0][:2] != df.iloc[i][1][:2]):\n",
    "            NAI=NAI+1\n",
    "        elif (df.iloc[i][0][:2] == df.iloc[i][1][:2]):\n",
    "            NAC=NAC+1\n",
    "\n",
    "    return NAI,NAC\n",
    "            "
   ]
  },
  {
   "cell_type": "code",
   "execution_count": 248,
   "id": "c35c4b73",
   "metadata": {},
   "outputs": [
    {
     "data": {
      "text/plain": [
       "(176, 24)"
      ]
     },
     "execution_count": 248,
     "metadata": {},
     "output_type": "execute_result"
    }
   ],
   "source": [
    "NAI,NAC = nbrTotal(df30F)\n",
    "NAI,NAC"
   ]
  },
  {
   "cell_type": "code",
   "execution_count": 249,
   "id": "4e874a4e",
   "metadata": {},
   "outputs": [],
   "source": [
    "def det(df,seuil,NAI,NAC):\n",
    "    FA =0\n",
    "    FR=0\n",
    "    for i in range(len(df)):\n",
    "        if (df.iloc[i][2]>seuil and df.iloc[i][0][:2] != df.iloc[i][1][:2]):\n",
    "            FA= FA+1\n",
    "        elif (df.iloc[i][2]<seuil and df.iloc[i][0][:2] == df.iloc[i][1][:2]):\n",
    "            FR=FR+1\n",
    "    TFA= FA / NAI\n",
    "    TFR= FR / NAC\n",
    "    return TFA , TFR\n",
    "            "
   ]
  },
  {
   "cell_type": "code",
   "execution_count": 252,
   "id": "26ca1772",
   "metadata": {},
   "outputs": [],
   "source": [
    "minimum = df30F['Score'].min()\n",
    "maximum = df30F['Score'].max()"
   ]
  },
  {
   "cell_type": "code",
   "execution_count": 257,
   "id": "fd2a00a1",
   "metadata": {},
   "outputs": [
    {
     "data": {
      "text/plain": [
       "1.0"
      ]
     },
     "execution_count": 257,
     "metadata": {},
     "output_type": "execute_result"
    }
   ],
   "source": [
    "TFA , TFR = det(df30F,minimum,NAI,NAC)\n",
    "TFA"
   ]
  },
  {
   "cell_type": "code",
   "execution_count": 258,
   "id": "14350e70",
   "metadata": {},
   "outputs": [
    {
     "data": {
      "text/plain": [
       "0.0"
      ]
     },
     "execution_count": 258,
     "metadata": {},
     "output_type": "execute_result"
    }
   ],
   "source": [
    "TFR"
   ]
  },
  {
   "cell_type": "code",
   "execution_count": 263,
   "id": "e1f60004",
   "metadata": {},
   "outputs": [],
   "source": [
    "seuils = np.linspace(minimum ,maximum, num=500)"
   ]
  },
  {
   "cell_type": "code",
   "execution_count": 264,
   "id": "665bf795",
   "metadata": {},
   "outputs": [],
   "source": [
    "tfa_list = []\n",
    "tfr_list = []\n",
    "for seuil in seuils:\n",
    "    tfa, tfr = det(df30F, seuil, NAI, NAC)\n",
    "    tfa_list.append(tfa)\n",
    "    tfr_list.append(tfr)"
   ]
  },
  {
   "cell_type": "code",
   "execution_count": 317,
   "id": "e6f03b2d",
   "metadata": {},
   "outputs": [],
   "source": [
    "diff = np.abs(np.asarray(tfa_list) - np.asarray(tfr_list))"
   ]
  },
  {
   "cell_type": "code",
   "execution_count": 318,
   "id": "6b2db665",
   "metadata": {},
   "outputs": [],
   "source": [
    "tee_index = np.argmin(diff)"
   ]
  },
  {
   "cell_type": "code",
   "execution_count": 319,
   "id": "140af89a",
   "metadata": {},
   "outputs": [],
   "source": [
    "tee_value = (tfa_list[tee_index] + tfr_list[tee_index]) / 2"
   ]
  },
  {
   "cell_type": "code",
   "execution_count": 323,
   "id": "98e9cd88",
   "metadata": {},
   "outputs": [
    {
     "data": {
      "image/png": "[encoded data removed]",
      "text/plain": [
       "<Figure size 640x480 with 1 Axes>"
      ]
     },
     "metadata": {},
     "output_type": "display_data"
    }
   ],
   "source": [
    "plt.plot(tfr_list, tfa_list)\n",
    "plt.scatter(tfr_list[tee_index], tfa_list[tee_index], color='red', marker='o', label=f'TEE Value: {tee_value:.4f}')\n",
    "plt.xlabel('TFR')\n",
    "plt.ylabel('TFA')\n",
    "plt.title('Courbe DET')\n",
    "plt.plot([0, tfr_list[tee_index]], [0, tfa_list[tee_index]], color='red', linestyle='--', label='Line to TEE')\n",
    "plt.legend()\n",
    "plt.show()\n"
   ]
  },
  {
   "cell_type": "code",
   "execution_count": 321,
   "id": "2e43b501",
   "metadata": {},
   "outputs": [
    {
     "name": "stdout",
     "output_type": "stream",
     "text": [
      "Score associated with TEE: -109.791622063477\n"
     ]
    }
   ],
   "source": [
    "np.argmin(diff)\n",
    "tee_score = seuils[tee_index]\n",
    "print(\"Score associated with TEE:\", tee_score)\n"
   ]
  },
  {
   "cell_type": "code",
   "execution_count": 298,
   "id": "6806deda",
   "metadata": {},
   "outputs": [
    {
     "data": {
      "image/png": "[encoded data removed]",
      "text/plain": [
       "<Figure size 640x480 with 1 Axes>"
      ]
     },
     "metadata": {},
     "output_type": "display_data"
    }
   ],
   "source": [
    "plt.plot( tfr_list,tfa_list)\n",
    "plt.xlabel('TFR')\n",
    "plt.ylabel('TFA')\n",
    "plt.title('Courbe DET')\n",
    "plt.show()"
   ]
  },
  {
   "cell_type": "code",
   "execution_count": 312,
   "id": "ae40d035",
   "metadata": {},
   "outputs": [
    {
     "data": {
      "text/plain": [
       "0.5"
      ]
     },
     "execution_count": 312,
     "metadata": {},
     "output_type": "execute_result"
    }
   ],
   "source": [
    "import numpy as np\n",
    "\n",
    "# Calculate the absolute difference between FAR and FRR\n",
    "diff = np.abs(np.asarray(tfr_list), np.asarray(tfa_list))\n",
    "\n",
    "# Get the index of the smallest difference\n",
    "eer_index = np.argmin(diff)\n",
    "\n",
    "# Get the value of the EER\n",
    "eer = (tfa_list[eer_index] + tfr_list[eer_index]) / 2\n",
    "eer"
   ]
  },
  {
   "cell_type": "code",
   "execution_count": 316,
   "id": "35f99ccc",
   "metadata": {},
   "outputs": [
    {
     "data": {
      "image/png": "[encoded data removed]",
      "text/plain": [
       "<Figure size 640x480 with 1 Axes>"
      ]
     },
     "metadata": {},
     "output_type": "display_data"
    },
    {
     "name": "stdout",
     "output_type": "stream",
     "text": [
      "EER: 0.2566287878787879\n"
     ]
    }
   ],
   "source": [
    "import matplotlib.pyplot as plt\n",
    "import numpy as np\n",
    "\n",
    "def det(df, seuil, NAI, NAC):\n",
    "    FA = 0\n",
    "    FR = 0\n",
    "    for i in range(len(df)):\n",
    "        if (df.iloc[i][2] > seuil and df.iloc[i][0][:2] != df.iloc[i][1][:2]):\n",
    "            FA += 1\n",
    "        elif (df.iloc[i][2] < seuil and df.iloc[i][0][:2] == df.iloc[i][1][:2]):\n",
    "            FR += 1\n",
    "    TFA = FA / NAI\n",
    "    TFR = FR / NAC\n",
    "    return TFA, TFR\n",
    "\n",
    "seuils = np.linspace(minimum, maximum, num=50)\n",
    "tfa_list = []\n",
    "tfr_list = []\n",
    "\n",
    "for seuil in seuils:\n",
    "    tfa, tfr = det(df30F, seuil, NAI, NAC)\n",
    "    tfa_list.append(tfa)\n",
    "    tfr_list.append(tfr)\n",
    "\n",
    "plt.plot(tfr_list, tfa_list)\n",
    "plt.xlabel('TFR')\n",
    "plt.ylabel('TFA')\n",
    "plt.title('Courbe DET')\n",
    "\n",
    "# Calculate the absolute difference between FAR and FRR\n",
    "diff = np.abs(np.asarray(tfr_list) - np.asarray(tfa_list))\n",
    "\n",
    "# Get the index of the smallest difference (EER index)\n",
    "eer_index = np.argmin(diff)\n",
    "\n",
    "# Get the value of the EER\n",
    "eer = (tfa_list[eer_index] + tfr_list[eer_index]) / 2\n",
    "\n",
    "# Plot the EER point on the DET curve\n",
    "plt.scatter(tfr_list[eer_index], tfa_list[eer_index], color='red', marker='o', label='EER')\n",
    "\n",
    "# Plot the line connecting the EER point to the origin\n",
    "plt.plot([0, tfr_list[eer_index]], [0, tfa_list[eer_index]], color='red', linestyle='--', label='EER Line')\n",
    "\n",
    "plt.legend()\n",
    "\n",
    "# Show the plot\n",
    "plt.show()\n",
    "\n",
    "# Print the EER\n",
    "print(\"EER:\", eer)\n"
   ]
  },
  {
   "cell_type": "code",
   "execution_count": 287,
   "id": "53c2c50c",
   "metadata": {},
   "outputs": [
    {
     "name": "stdout",
     "output_type": "stream",
     "text": [
      "TEE: 0.0996042932779346\n"
     ]
    }
   ],
   "source": [
    "area = np.trapz( tfa_list,tfr_list)\n",
    "tee = area / np.sqrt(2)\n",
    "print(\"TEE:\", tee)\n"
   ]
  },
  {
   "cell_type": "code",
   "execution_count": 311,
   "id": "c67d9f0b",
   "metadata": {},
   "outputs": [
    {
     "ename": "NameError",
     "evalue": "name 'far' is not defined",
     "output_type": "error",
     "traceback": [
      "\u001b[1;31m---------------------------------------------------------------------------\u001b[0m",
      "\u001b[1;31mNameError\u001b[0m                                 Traceback (most recent call last)",
      "Cell \u001b[1;32mIn[311], line 2\u001b[0m\n\u001b[0;32m      1\u001b[0m \u001b[38;5;66;03m# Calculate the absolute difference between FAR and FRR\u001b[39;00m\n\u001b[1;32m----> 2\u001b[0m diff \u001b[38;5;241m=\u001b[39m np\u001b[38;5;241m.\u001b[39mabs(\u001b[43mfar\u001b[49m \u001b[38;5;241m-\u001b[39m frr)\n\u001b[0;32m      4\u001b[0m \u001b[38;5;66;03m# Get the index of the smallest difference\u001b[39;00m\n\u001b[0;32m      5\u001b[0m eer_index \u001b[38;5;241m=\u001b[39m np\u001b[38;5;241m.\u001b[39margmin(diff)\n",
      "\u001b[1;31mNameError\u001b[0m: name 'far' is not defined"
     ]
    }
   ],
   "source": [
    "# Calculate the absolute difference between FAR and FRR\n",
    "diff = np.abs(far - frr)\n",
    "\n",
    "# Get the index of the smallest difference\n",
    "eer_index = np.argmin(diff)\n",
    "\n",
    "# Get the value of the EER\n",
    "eer = (far[eer_index] + frr[eer_index]) / 2"
   ]
  }
 ],
 "metadata": {
  "kernelspec": {
   "display_name": "Python 3 (ipykernel)",
   "language": "python",
   "name": "python3"
  },
  "language_info": {
   "codemirror_mode": {
    "name": "ipython",
    "version": 3
   },
   "file_extension": ".py",
   "mimetype": "text/x-python",
   "name": "python",
   "nbconvert_exporter": "python",
   "pygments_lexer": "ipython3",
   "version": "3.10.9"
  }
 },
 "nbformat": 4,
 "nbformat_minor": 5
}
