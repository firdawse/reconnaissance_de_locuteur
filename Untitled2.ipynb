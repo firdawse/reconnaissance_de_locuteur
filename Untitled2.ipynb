{
 "cells": [
  {
   "cell_type": "code",
   "execution_count": 14,
   "id": "4c8eecb1",
   "metadata": {},
   "outputs": [],
   "source": [
    "def score(file,gmm):\n",
    "    log_likelihood = gmm.score_samples(file)\n",
    "    mean =  np.mean(log_likelihood)\n",
    "    return mean"
   ]
  },
  {
   "cell_type": "code",
   "execution_count": 2,
   "id": "a5f7b86f",
   "metadata": {},
   "outputs": [],
   "source": [
    "def loadGmm(path,nbr):\n",
    "    gmms=[]\n",
    "    if('/F/'in path):\n",
    "        path2 = 'gmm/F/'+str(nbr)\n",
    "    else :\n",
    "        path2 = 'gmm/H/'+str(nbr)\n",
    "    \n",
    "    roots =[]\n",
    "    for filename in os.listdir(path2):\n",
    "        root, ext = os.path.splitext(filename)\n",
    "        with open(path2+'/'+filename, 'rb') as f:\n",
    "            file = pickle.load(f)\n",
    "            gmms.append(file)\n",
    "            roots.append(root)\n",
    "    return gmms,roots"
   ]
  },
  {
   "cell_type": "code",
   "execution_count": 3,
   "id": "33dce038",
   "metadata": {},
   "outputs": [],
   "source": [
    "def calculate_gmm_scores(lang_dir,nbr):\n",
    "    gmms,roots = loadGmm(lang_dir,nbr)\n",
    "    models = []\n",
    "    results = []\n",
    "    for filename in os.listdir(lang_dir):\n",
    "        scores =[]\n",
    "        names = []\n",
    "        root, ext = os.path.splitext(filename)\n",
    "        with open(lang_dir+filename, 'rb') as f:\n",
    "            file = pickle.load(f)\n",
    "        for i in range(len(gmms)):\n",
    "            scores.append(score(file,gmms[i]))\n",
    "            results.append({\n",
    "                        'Recording Name': root,\n",
    "                        'Model Name': roots[i],\n",
    "                        'Score': score(file,gmms[i])\n",
    "                    })\n",
    "    df = pd.DataFrame(results)\n",
    "    return df"
   ]
  },
  {
   "cell_type": "code",
   "execution_count": 4,
   "id": "9a3103a7",
   "metadata": {},
   "outputs": [],
   "source": [
    "def verify_max_score(df):\n",
    "    # Find the index of the maximum score\n",
    "    max_score_index = df['Score'].idxmax()\n",
    "\n",
    "    # Get the Recording Name and Model Name of the observation with the maximum score\n",
    "    max_score_recording = df.loc[max_score_index, 'Recording Name']\n",
    "    max_score_model = df.loc[max_score_index, 'Model Name']\n",
    "\n",
    "    # Verify if the Recording Name and Model Name start with the same first 2 characters\n",
    "    same_start = max_score_recording[:2] == max_score_model[:2]\n",
    "\n",
    "    return same_start"
   ]
  },
  {
   "cell_type": "code",
   "execution_count": 5,
   "id": "b151378c",
   "metadata": {},
   "outputs": [],
   "source": [
    "def calculErrorF(df,sec):\n",
    "    errors = []\n",
    "    for j in range(11):\n",
    "        #print(j)\n",
    "        for k in range(int(60/sec)):\n",
    "            if(j!=9):\n",
    "                extracted_df = df[df['Recording Name'] == 'F'+str(j+1)+'.'+str(sec)+'.'+str(k+1)] \n",
    "                extracted_df = extracted_df.reset_index(drop=True)\n",
    "                verify_max_score(extracted_df)\n",
    "                errors.append(verify_max_score(extracted_df))\n",
    "    return errors.count(False) / len(errors)\n",
    "    "
   ]
  },
  {
   "cell_type": "code",
   "execution_count": 16,
   "id": "48954a64",
   "metadata": {},
   "outputs": [],
   "source": [
    "import os\n",
    "import pickle\n",
    "import numpy as np\n",
    "import pandas as pd"
   ]
  },
  {
   "cell_type": "code",
   "execution_count": 17,
   "id": "e36dfa9a",
   "metadata": {},
   "outputs": [],
   "source": [
    "lang_dir = 'Segments/3/F/'\n",
    "df5F = calculate_gmm_scores(lang_dir,256)\n",
    "#calculate_and_store_scores(directory,nbr)"
   ]
  },
  {
   "cell_type": "code",
   "execution_count": 18,
   "id": "1d2ac7c9",
   "metadata": {},
   "outputs": [
    {
     "data": {
      "text/html": [
       "<div>\n",
       "<style scoped>\n",
       "    .dataframe tbody tr th:only-of-type {\n",
       "        vertical-align: middle;\n",
       "    }\n",
       "\n",
       "    .dataframe tbody tr th {\n",
       "        vertical-align: top;\n",
       "    }\n",
       "\n",
       "    .dataframe thead th {\n",
       "        text-align: right;\n",
       "    }\n",
       "</style>\n",
       "<table border=\"1\" class=\"dataframe\">\n",
       "  <thead>\n",
       "    <tr style=\"text-align: right;\">\n",
       "      <th></th>\n",
       "      <th>Recording Name</th>\n",
       "      <th>Model Name</th>\n",
       "      <th>Score</th>\n",
       "    </tr>\n",
       "  </thead>\n",
       "  <tbody>\n",
       "    <tr>\n",
       "      <th>0</th>\n",
       "      <td>F1.3.1</td>\n",
       "      <td>F1.256</td>\n",
       "      <td>-53.826755</td>\n",
       "    </tr>\n",
       "    <tr>\n",
       "      <th>1</th>\n",
       "      <td>F1.3.1</td>\n",
       "      <td>F11.256</td>\n",
       "      <td>-3392.701013</td>\n",
       "    </tr>\n",
       "    <tr>\n",
       "      <th>2</th>\n",
       "      <td>F1.3.1</td>\n",
       "      <td>F2.256</td>\n",
       "      <td>-657.992680</td>\n",
       "    </tr>\n",
       "    <tr>\n",
       "      <th>3</th>\n",
       "      <td>F1.3.1</td>\n",
       "      <td>F3 .256</td>\n",
       "      <td>-160.208799</td>\n",
       "    </tr>\n",
       "    <tr>\n",
       "      <th>4</th>\n",
       "      <td>F1.3.1</td>\n",
       "      <td>F4.256</td>\n",
       "      <td>-392.037363</td>\n",
       "    </tr>\n",
       "    <tr>\n",
       "      <th>...</th>\n",
       "      <td>...</td>\n",
       "      <td>...</td>\n",
       "      <td>...</td>\n",
       "    </tr>\n",
       "    <tr>\n",
       "      <th>1995</th>\n",
       "      <td>F9.3.9</td>\n",
       "      <td>F5.256</td>\n",
       "      <td>-1044.456476</td>\n",
       "    </tr>\n",
       "    <tr>\n",
       "      <th>1996</th>\n",
       "      <td>F9.3.9</td>\n",
       "      <td>F6.256</td>\n",
       "      <td>-79.195219</td>\n",
       "    </tr>\n",
       "    <tr>\n",
       "      <th>1997</th>\n",
       "      <td>F9.3.9</td>\n",
       "      <td>F7.256</td>\n",
       "      <td>-139.985031</td>\n",
       "    </tr>\n",
       "    <tr>\n",
       "      <th>1998</th>\n",
       "      <td>F9.3.9</td>\n",
       "      <td>F8.256</td>\n",
       "      <td>-77.925335</td>\n",
       "    </tr>\n",
       "    <tr>\n",
       "      <th>1999</th>\n",
       "      <td>F9.3.9</td>\n",
       "      <td>F9.256</td>\n",
       "      <td>-47.446711</td>\n",
       "    </tr>\n",
       "  </tbody>\n",
       "</table>\n",
       "<p>2000 rows × 3 columns</p>\n",
       "</div>"
      ],
      "text/plain": [
       "     Recording Name Model Name        Score\n",
       "0            F1.3.1     F1.256   -53.826755\n",
       "1            F1.3.1    F11.256 -3392.701013\n",
       "2            F1.3.1     F2.256  -657.992680\n",
       "3            F1.3.1    F3 .256  -160.208799\n",
       "4            F1.3.1     F4.256  -392.037363\n",
       "...             ...        ...          ...\n",
       "1995         F9.3.9     F5.256 -1044.456476\n",
       "1996         F9.3.9     F6.256   -79.195219\n",
       "1997         F9.3.9     F7.256  -139.985031\n",
       "1998         F9.3.9     F8.256   -77.925335\n",
       "1999         F9.3.9     F9.256   -47.446711\n",
       "\n",
       "[2000 rows x 3 columns]"
      ]
     },
     "execution_count": 18,
     "metadata": {},
     "output_type": "execute_result"
    }
   ],
   "source": [
    "df5F"
   ]
  },
  {
   "cell_type": "code",
   "execution_count": 20,
   "id": "b546b245",
   "metadata": {},
   "outputs": [],
   "source": [
    "df5F.to_csv('df.3s.f.256.csv', index=False)"
   ]
  },
  {
   "cell_type": "code",
   "execution_count": 21,
   "id": "d4198f6c",
   "metadata": {},
   "outputs": [],
   "source": [
    "lang_dir = 'Segments/3/F/'\n",
    "df3F = calculate_gmm_scores(lang_dir,1024)\n",
    "#calculate_and_store_scores(directory,nbr)"
   ]
  },
  {
   "cell_type": "code",
   "execution_count": 22,
   "id": "a9352300",
   "metadata": {},
   "outputs": [],
   "source": [
    "df3F.to_csv('df.3s.f.1024.csv', index=False)"
   ]
  },
  {
   "cell_type": "code",
   "execution_count": 23,
   "id": "cc77621f",
   "metadata": {},
   "outputs": [],
   "source": [
    "lang_dir = 'Segments/10/F/'\n",
    "df10F = calculate_gmm_scores(lang_dir,1024)"
   ]
  },
  {
   "cell_type": "code",
   "execution_count": 24,
   "id": "7fe0e77b",
   "metadata": {},
   "outputs": [],
   "source": [
    "df10F.to_csv('df.10s.f.1024.csv', index=False)"
   ]
  },
  {
   "cell_type": "code",
   "execution_count": 25,
   "id": "139efc2c",
   "metadata": {},
   "outputs": [],
   "source": [
    "lang_dir = 'Segments/15/F/'\n",
    "df15F = calculate_gmm_scores(lang_dir,1024)"
   ]
  },
  {
   "cell_type": "code",
   "execution_count": 26,
   "id": "5ca007d0",
   "metadata": {},
   "outputs": [],
   "source": [
    "df15F.to_csv('df.15s.f.1024.csv', index=False)"
   ]
  },
  {
   "cell_type": "code",
   "execution_count": 27,
   "id": "cf6e3f82",
   "metadata": {},
   "outputs": [],
   "source": [
    "lang_dir = 'Segments/3/H/'\n",
    "df= calculate_gmm_scores(lang_dir,512)"
   ]
  },
  {
   "cell_type": "code",
   "execution_count": 30,
   "id": "4d30e771",
   "metadata": {},
   "outputs": [],
   "source": [
    "df.to_csv('df.3s.h.512.csv', index=False)"
   ]
  },
  {
   "cell_type": "code",
   "execution_count": 31,
   "id": "3c557f12",
   "metadata": {},
   "outputs": [],
   "source": [
    "lang_dir = 'Segments/30/F/'\n",
    "df30F = calculate_gmm_scores(lang_dir,1024)"
   ]
  },
  {
   "cell_type": "code",
   "execution_count": 32,
   "id": "63cc4c2f",
   "metadata": {},
   "outputs": [],
   "source": [
    "df30F.to_csv('df.30s.f.1024.csv', index=False)"
   ]
  }
 ],
 "metadata": {
  "kernelspec": {
   "display_name": "Python 3 (ipykernel)",
   "language": "python",
   "name": "python3"
  },
  "language_info": {
   "codemirror_mode": {
    "name": "ipython",
    "version": 3
   },
   "file_extension": ".py",
   "mimetype": "text/x-python",
   "name": "python",
   "nbconvert_exporter": "python",
   "pygments_lexer": "ipython3",
   "version": "3.10.9"
  }
 },
 "nbformat": 4,
 "nbformat_minor": 5
}
